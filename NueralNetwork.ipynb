{
 "cells": [
  {
   "cell_type": "markdown",
   "metadata": {
    "deletable": true,
    "editable": true
   },
   "source": [
    "# Baseball learning network"
   ]
  },
  {
   "cell_type": "code",
   "execution_count": 1,
   "metadata": {
    "collapsed": false,
    "deletable": true,
    "editable": true
   },
   "outputs": [
    {
     "name": "stdout",
     "output_type": "stream",
     "text": [
      "hdf5 is not supported on this machine (please install/reinstall h5py for optimal experience)\n"
     ]
    }
   ],
   "source": [
    "import numpy as np\n",
    "import tensorflow as tf\n",
    "import tflearn\n",
    "from tqdm import tqdm_notebook\n",
    "import copy\n",
    "from scipy import stats"
   ]
  },
  {
   "cell_type": "code",
   "execution_count": 1,
   "metadata": {
    "collapsed": true,
    "deletable": true,
    "editable": true
   },
   "outputs": [],
   "source": [
    "class GameStats(object):          \n",
    "    \n",
    "    def __init__(self, homeTeamNameIndex, homeTeamScoreIndex, homeTeamStatsIndex, visitorTeamNameIndex, visitorTeamScoreIndex, visitorTeamStatsIndex):\n",
    "        #parse the text file\n",
    "        self.statsFile = open(\"baseball2016.txt\", \"r\")\n",
    "        self.topArray = []\n",
    "        self.sideArray = []  \n",
    "        self.sc = np.zeros((30,30,30), np.int32) \n",
    "        self.sc[:,:,:] = -1  \n",
    "        self.am = np.zeros((30,30), np.float32)\n",
    "        self.gameList = []\n",
    "        \n",
    "        seenTeams = []\n",
    "        for line in self.statsFile:\n",
    "            token = line.split(',')  #tokenize the string\n",
    "            tokenIndex = [homeTeamNameIndex, homeTeamScoreIndex, visitorTeamNameIndex, visitorTeamScoreIndex] + [i for i in homeTeamStatsIndex] + [i for i in visitorTeamStatsIndex]\n",
    "            attributes = dict()\n",
    "            \n",
    "            for i in range(len(token)):\n",
    "                if(i in tokenIndex):\n",
    "                    attributes[i] = self.removeQuotes(token[i])\n",
    "                        \n",
    "            self.addScore(attributes[homeTeamNameIndex], attributes[visitorTeamNameIndex], attributes[homeTeamScoreIndex], attributes[visitorTeamScoreIndex])                \n",
    "            self.addGame(attributes[homeTeamNameIndex], attributes[homeTeamScoreIndex], [attributes[i] for i in homeTeamStatsIndex], attributes[visitorTeamNameIndex], attributes[visitorTeamScoreIndex], [attributes[i] for i in visitorTeamStatsIndex])\n",
    "            \n",
    "            if(attributes[homeTeamNameIndex] not in seenTeams):\n",
    "                seenTeams.append(attributes[homeTeamNameIndex])\n",
    "            \n",
    "        self.buildAvgMatrix()\n",
    "        self.statsFile.close()\n",
    "        #self.gameList = [bin(2**i)[2:].zfill(len(seenTeams)) if x == seenTeams[i] else x for i in range(len(seenTeams)) for x in self.gameList]\n",
    "        # take the teams and convert the indexes of the order that they appeared in into the hot one format by rasiing\n",
    "        # 2 to the power of them and then converting them into binary.\n",
    "        seenTeamsDict = {k: v for v, k in enumerate(seenTeams)}\n",
    "        temp = []\n",
    "        for x in self.gameList:\n",
    "            tempi = []\n",
    "            for z in x:\n",
    "                if(z in seenTeams):\n",
    "                    tempi.append(bin(2**seenTeamsDict[z])[2:].zfill(len(seenTeamsDict)))\n",
    "                else:\n",
    "                    tempi.append(z)\n",
    "            temp.append(tempi)\n",
    "        self.gameList = temp\n",
    "        \n",
    "    def removeQuotes(self, string):\n",
    "        if (string.startswith('\"') and string.endswith('\"')) or (string.startswith(\"'\") and string.endswith(\"'\")):\n",
    "            return string[1:-1]\n",
    "        return string  \n",
    "    \n",
    "    def addGame(self, team1, score1, stats1, team2, score2, stats2):\n",
    "        self.gameList.append([team1, score1, stats1, team2, score2, stats2])\n",
    "        \n",
    "    #give it two teams, the scores, and it will add it to the matrix\n",
    "    def addScore(self, team1, team2, score1, score2):\n",
    "        '''\n",
    "        for a team in top array, the index in the array corrisponds to the matrix column there located in\n",
    "        for a team in side array, the index in the array corrisponds to the matrix row there located in\n",
    "        '''\n",
    "        #team 1 score entry\n",
    "        try:\n",
    "            row = self.sideArray.index(team2)    \n",
    "\n",
    "        except:\n",
    "            self.sideArray.append(team2)\n",
    "            row = self.sideArray.index(team2)    \n",
    "\n",
    "        try:\n",
    "            col = self.topArray.index(team1)\n",
    "        except:\n",
    "            self.topArray.append(team1)\n",
    "            col = self.topArray.index(team1)\n",
    "        temp = self.sc[row, col]\n",
    "        counter = 0\n",
    "        for e in temp:\n",
    "            if (e == -1):\n",
    "                temp[counter] = score1\n",
    "                break\n",
    "            counter += 1\n",
    "        self.sc[row, col] = temp\n",
    "        \n",
    "        #team 2 score entry\n",
    "        try:\n",
    "            row = self.sideArray.index(team1)    \n",
    "        except:\n",
    "            self.sideArray.append(team1)\n",
    "            row = self.sideArray.index(team1)    \n",
    "            \n",
    "        try:\n",
    "            col = self.topArray.index(team2)\n",
    "        except:\n",
    "            self.topArray.append(team2)\n",
    "            col = self.topArray.index(team2)\n",
    "        temp = self.sc[row, col]\n",
    "        counter = 0\n",
    "        for e in temp:\n",
    "            if (e == -1):\n",
    "                temp[counter] = score2\n",
    "                break\n",
    "            counter += 1\n",
    "        self.sc[row, col] = temp\n",
    "    \n",
    "    #returns the score(s) for match up\n",
    "    def getScore(self, team1, team2, gameSelect = None):\n",
    "        print(team1, team2)\n",
    "        try:\n",
    "            score1 = self.sc[self.sideArray.index(team2), self.topArray.index(team1)]\n",
    "            score2 = self.sc[self.sideArray.index(team1), self.topArray.index(team2)]\n",
    "            if (gameSelect == None):\n",
    "                print(team1, score1)\n",
    "                print(team2, score2)\n",
    "            else:\n",
    "                print(team1, score1[gameSelect])\n",
    "                print(team2, score2[gameSelect])\n",
    "        except:\n",
    "            print('Invalid input of teams')\n",
    "    \n",
    "    def getGameList(self):\n",
    "        return copy.deepcopy(self.gameList)\n",
    "    \n",
    "    #constructs a matrix of the avg score in a matchup\n",
    "    def buildAvgMatrix(self): \n",
    "        for col in range(len(self.sc[:,0])):   #depth\n",
    "            for row in range(len(self.sc[0, :])):  #width\n",
    "                tempScore = self.sc[row, col]\n",
    "                avgScore = 0.0\n",
    "                count = 0.0\n",
    "                for j in tempScore:\n",
    "                    if (j != -1):\n",
    "                        avgScore += j\n",
    "                        count += 1\n",
    "                    else:\n",
    "                        break\n",
    "                try:\n",
    "                    avgScore = avgScore / count\n",
    "                except:\n",
    "                    avgScore = -1\n",
    "                self.am[row, col] = avgScore\n",
    "    \n",
    "    #get the value of the avg score for a match up\n",
    "    def getAvgScore(self, team1, team2):\n",
    "        try:\n",
    "            score1 = self.am[self.sideArray.index(team2), self.topArray.index(team1)]\n",
    "            score2 = self.am[self.sideArray.index(team1), self.topArray.index(team2)]\n",
    "            print(team1, score1)\n",
    "            print(team2, score2)        \n",
    "        except:\n",
    "            print('Invalid input of teams')"
   ]
  },
  {
   "cell_type": "markdown",
   "metadata": {
    "deletable": true,
    "editable": true
   },
   "source": [
    "Extract the data form the file."
   ]
  },
  {
   "cell_type": "code",
   "execution_count": 3,
   "metadata": {
    "collapsed": true,
    "deletable": true,
    "editable": true
   },
   "outputs": [],
   "source": [
    "gameStats = GameStats(6, 10, [8, 50, 53, 54, 58], 3, 9, [5, 22, 25, 26, 30])\n",
    "gameList = gameStats.getGameList() # get the list of games\n",
    "#getting rid of the strings\n",
    "def removeQuotes(gameList):\n",
    "    for row in gameList:\n",
    "        for x in range(len(row)):\n",
    "            #convert scores strings to float\n",
    "            if (x == 1 or x == 4): row[x] = float(row[x])\n",
    "            #convert arrays to floats\n",
    "            if (x == 2 or x == 5): row[x] = list(map(float, row[x]))\n",
    "    return gameList\n"
   ]
  },
  {
   "cell_type": "markdown",
   "metadata": {
    "deletable": true,
    "editable": true
   },
   "source": [
    "Print off all the data used into file name 'gameList.txt' so the user can see what stats were working with."
   ]
  },
  {
   "cell_type": "code",
   "execution_count": 4,
   "metadata": {
    "collapsed": false,
    "deletable": true,
    "editable": true
   },
   "outputs": [],
   "source": [
    "gameListFile = open(\"gameList.txt\", \"w\")\n",
    "for row in gameList:\n",
    "    gameListFile.write('\\n-------------------------------------------')\n",
    "    gameListFile.write('\\nHome: ')\n",
    "    gameListFile.write(row[0])\n",
    "    gameListFile.write('\\nScore: ')\n",
    "    gameListFile.write(str(row[1]))\n",
    "    \n",
    "    gameListFile.write('\\n  game: ')\n",
    "    gameListFile.write(str(row[2][0]))\n",
    "    gameListFile.write('\\n  hits: ')\n",
    "    gameListFile.write(str(row[2][1]))\n",
    "    gameListFile.write('\\n  home runs: ')\n",
    "    gameListFile.write(str(row[2][2]))\n",
    "    gameListFile.write('\\n  RBI: ')\n",
    "    gameListFile.write(str(row[2][3]))\n",
    "    gameListFile.write('\\n  walks: ')\n",
    "    gameListFile.write(str(row[2][4]))\n",
    "    \n",
    "    gameListFile.write('\\n-----------------')\n",
    "    \n",
    "    gameListFile.write('\\nAway: ')\n",
    "    gameListFile.write((row[3]))\n",
    "    gameListFile.write('\\nScore: ')\n",
    "    gameListFile.write(str(row[4]))\n",
    "    \n",
    "    gameListFile.write('\\n  game: ')\n",
    "    gameListFile.write(str(row[5][0]))\n",
    "    gameListFile.write('\\n  hits: ')\n",
    "    gameListFile.write(str(row[5][1]))\n",
    "    gameListFile.write('\\n  home runs: ')\n",
    "    gameListFile.write(str(row[5][2]))\n",
    "    gameListFile.write('\\n  RBI: ')\n",
    "    gameListFile.write(str(row[5][3]))\n",
    "    gameListFile.write('\\n  walks: ')\n",
    "    gameListFile.write(str(row[5][4]))\n",
    "    gameListFile.write('\\n-------------------------------------------')\n",
    "gameListFile.close()\n",
    "gameList = removeQuotes(gameList) #now thats its printed to the file, lets remove the quotes from the #"
   ]
  },
  {
   "cell_type": "markdown",
   "metadata": {
    "deletable": true,
    "editable": true
   },
   "source": [
    "Now lets make the average stats for each team."
   ]
  },
  {
   "cell_type": "code",
   "execution_count": 5,
   "metadata": {
    "collapsed": false,
    "deletable": true,
    "editable": true
   },
   "outputs": [],
   "source": [
    "avgStats = dict()\n",
    "np.set_printoptions(precision=4)  #IF you wanna remove this i recommend restarting the kernal\n",
    "\n",
    "#add up all the stats for each team\n",
    "for row in gameList:\n",
    "    #home\n",
    "    if row[0] in avgStats:\n",
    "        avgStats[row[0]][0] = 0   #set the proir games to 0,because there set to right amount next line\n",
    "        avgStats[row[0]] = np.sum([avgStats[row[0]], row[2]], axis=0)  #total stats + indivudal game stats\n",
    "    else:\n",
    "        avgStats[row[0]] = row[2]\n",
    "    \n",
    "    #away\n",
    "    if row[3] in avgStats:\n",
    "        avgStats[row[3]][0] = 0\n",
    "        avgStats[row[3]] = np.sum([avgStats[row[3]], row[5]], axis=0)\n",
    "    else:\n",
    "        avgStats[row[3]] = row[5]\n",
    "\n",
    "#divide the sum, to make the average..\n",
    "keyList = avgStats.keys()    \n",
    "for key in keyList:\n",
    "    for index in range(1, len(avgStats[key])):  #divide all stats by games played (162, 162)\n",
    "        avgStats[key][index] = avgStats[key][index] / avgStats[key][0]  "
   ]
  },
  {
   "cell_type": "code",
   "execution_count": 6,
   "metadata": {
    "collapsed": false,
    "deletable": true,
    "editable": true
   },
   "outputs": [],
   "source": [
    "# split the stats up into different parts (this takes a lot of time, but I think it will be worth it)\n",
    "\n",
    "#gameList = gameStats.getGameList() # I want to test what happens if we just use the stats of the game.\n",
    "gameList = removeQuotes(gameList)   #because i initialized gamestats above, must remove quote again\n",
    "homeTeamName = np.empty((0, len(list(gameList[0][0])))) \n",
    "homeTeamScore = np.empty((0, 1))\n",
    "homeTeamStats = np.empty((0, len(gameList[0][2])))\n",
    "\n",
    "visitingTeamName = np.empty((0, len(list(gameList[0][3])))) \n",
    "visitingTeamScore = np.empty((0, 1))\n",
    "visitingTeamStats = np.empty((0, len(gameList[0][5])))\n",
    "\n",
    "for row in gameList:\n",
    "    homeTeamName = np.vstack((homeTeamName, list(row[0])))\n",
    "    homeTeamScore = np.vstack((homeTeamScore, row[1]))\n",
    "    homeTeamStats = np.vstack((homeTeamStats, row[2]))\n",
    "    visitingTeamName = np.vstack((visitingTeamName, list(row[3])))\n",
    "    visitingTeamScore = np.vstack((visitingTeamScore, row[4]))\n",
    "    visitingTeamStats = np.vstack((visitingTeamStats, row[5]))"
   ]
  },
  {
   "cell_type": "code",
   "execution_count": 7,
   "metadata": {
    "collapsed": true,
    "deletable": true,
    "editable": true
   },
   "outputs": [],
   "source": [
    "# take the stats and zscore them, I do a number of transformations on the array because of how the zScore input contstraints \n",
    "zScoredStatsHome = np.empty((0, len(homeTeamStats)))\n",
    "zScoredStatsVisitor = np.empty((0, len(visitingTeamStats)))\n",
    "for x in range(len(homeTeamStats[0])):\n",
    "    zScoredStatsHome = np.vstack((zScoredStatsHome, stats.zscore([i[x] for i in homeTeamStats])))\n",
    "    zScoredStatsVisitor = np.vstack((zScoredStatsVisitor, stats.zscore([i[x] for i in visitingTeamStats])))\n",
    "\n",
    "homeTeamStatsTemp = np.empty((len(zScoredStatsHome[0]), 0))\n",
    "visitingTeamStatsTemp = np.empty((len(zScoredStatsVisitor[0]), 0))\n",
    "for i in zScoredStatsHome:\n",
    "    homeTeamStatsTemp = np.hstack((homeTeamStatsTemp, [[x] for x in i]))\n",
    "\n",
    "for i in zScoredStatsVisitor:\n",
    "    visitingTeamStatsTemp = np.hstack((visitingTeamStatsTemp, [[x] for x in i]))"
   ]
  },
  {
   "cell_type": "code",
   "execution_count": 19,
   "metadata": {
    "collapsed": false,
    "deletable": true,
    "editable": true
   },
   "outputs": [
    {
     "name": "stdout",
     "output_type": "stream",
     "text": [
      "Training Step: 699  | total loss: \u001b[1m\u001b[32m6.14998\u001b[0m\u001b[0m | time: 0.273s\n",
      "| Adam | epoch: 020 | loss: 6.14998 - acc: 0.4187 -- iter: 2176/2185\n",
      "Training Step: 700  | total loss: \u001b[1m\u001b[32m6.14890\u001b[0m\u001b[0m | time: 1.284s\n",
      "| Adam | epoch: 020 | loss: 6.14890 - acc: 0.3987 | val_loss: 6.44243 - val_acc: 0.1111 -- iter: 2185/2185\n",
      "--\n",
      "\n"
     ]
    }
   ],
   "source": [
    "predFile = open(\"prediction.txt\", \"w\")\n",
    "predFile.close()     #clear the file\n",
    "learnArr = [1*(10**(x)) for x in [-2]]\n",
    "regulArr = [1*(2**(x)) for x in xrange(-10)]\n",
    "layerArr = [5, 8]\n",
    "widthArr = [30]\n",
    "paramErr = dict()\n",
    "mastErrList = []\n",
    "\n",
    "for learnRate in tqdm_notebook(learnArr):\n",
    "    for numWidth in tqdm_notebook(widthArr):\n",
    "        for numLayers in tqdm_notebook(layerArr):                                  \n",
    "            tf.reset_default_graph()\n",
    "    \n",
    "            # the input layer needs to have the same dimensions as our input (in this case the teams)\n",
    "            homeTeamNameInput = tflearn.input_data(shape=[None, len(homeTeamName[0])], name='nameInput1')\n",
    "            homeTeamStatsInput = tflearn.input_data(shape=[None, len(homeTeamStatsTemp[0])], name='statsInput1')\n",
    "            visitingTeamNameInput = tflearn.input_data(shape=[None, len(visitingTeamName[0])], name='nameInput2')\n",
    "            visitingTeamStatsInput = tflearn.input_data(shape=[None, len(visitingTeamStatsTemp[0])], name='statsInput2')\n",
    "        \n",
    "            nameProcess1 = tflearn.fully_connected(homeTeamNameInput, 4)\n",
    "            nameProcess2 = tflearn.fully_connected(visitingTeamNameInput, 4)\n",
    "            net = tflearn.layers.merge_ops.merge([nameProcess1, homeTeamStatsInput, nameProcess2, visitingTeamStatsInput], 'concat', axis=1)\n",
    "            # next we have the hidden layer it is the feature matrix the size is arbitrary.\n",
    "            for _ in range(numLayers):\n",
    "                net = tflearn.fully_connected(net, numWidth)\n",
    "            \n",
    "            net = tflearn.dropout(net, keep_prob=0.5)\n",
    "            # The output layer\n",
    "            net = tflearn.fully_connected(net, 2)\n",
    "            net = tflearn.regression(net, name='target', learning_rate=learnRate)\n",
    "        \n",
    "            # take only the stats for each team and put them into an array\n",
    "            NNOutput = [[i[1], i[4]] for i in gameList]\n",
    "            NNOutput = np.array(NNOutput)\n",
    "        \n",
    "            # Define model\n",
    "            model = tflearn.DNN(net)\n",
    "            # Start training (apply gradient descent algorithm)\n",
    "            model.fit({'nameInput1':homeTeamName, 'statsInput1':homeTeamStatsTemp, 'nameInput2':visitingTeamName, 'statsInput2':visitingTeamStatsTemp}, NNOutput, validation_set=0.1, n_epoch=20, show_metric=True)\n",
    "            \n",
    "            \n",
    "            #MAKING THE PREDICTIONS\n",
    "            predFile = open(\"prediction.txt\", \"a\")\n",
    "            errorArr = []\n",
    "            for i in tqdm_notebook(range(len(homeTeamName))):\n",
    "                predict = model.predict([[homeTeamName[i]], [homeTeamStatsTemp[i]], [visitingTeamName[i]], [visitingTeamStatsTemp[i]]])\n",
    "                pred = predict[0]   #only need 1 dimension in the array\n",
    "                pred[0] = round(pred[0], 2)  #rounding the predictions\n",
    "                pred[1] = round(pred[1], 2)\n",
    "                #using relitive error but cant divide by 0, so replace actual score of 0 with 0.1\n",
    "                if (NNOutput[i][0] == 0): NNOutput[i][0] = 0.1\n",
    "                if (NNOutput[i][1] == 0): NNOutput[i][1] = 0.1\n",
    "                \n",
    "                error = (abs(pred[0] - NNOutput[i][0]) / NNOutput[i][0]) + (abs(pred[1] - NNOutput[i][1]) / NNOutput[i][1])  #adding the 'relitive error'\n",
    "                error = round(error, 4)  #round to 4 digits\n",
    "                errorArr.append(error)   \n",
    "                if (i < 15):   #only print 15 cause printing the prediction for 1000 games isnt needed\n",
    "                    predFile.write('\\n-----------')\n",
    "                    predFile.write('\\n     Home  |  Away')\n",
    "                    predFile.write('\\nPred:  ' + str(pred[0]) + ' | '+ str(pred[1]))\n",
    "                    predFile.write('\\nActu:  ' + str(NNOutput[i][0]) + ' | '+ str(NNOutput[i][1]))\n",
    "                    predFile.write('\\nError: ' + str(error))\n",
    "                    predFile.write('\\n-----------')\n",
    "            \n",
    "            \n",
    "            totErr = round(sum(errorArr) / len(homeTeamName), 3)  #the average relative errror\n",
    "            tempStr = ('Error: ' + str(totErr) + ', learnRate: ' + str(learnRate) + ', Width: ' + str(numWidth) + ', layers: ' + str(numLayers))\n",
    "            mastErrList.append(tempStr)  #this is an list of all the relitive error averages and what combination caused them\n",
    "            \n",
    "            predFile.write('\\n^^^^^^^^^^^^^^^^^^^^^^^^^^^^^^^^^^^^^'+ str(len(mastErrList)-1)+ '^^^^^^^^^^^^^^^^^^^^^^^^^^^^^^^^^^^^^^^^^^^\\n')\n",
    "            predFile.write(tempStr + '\\n')\n",
    "            predFile.write('\\n_________________________________________________________________________________')\n",
    "            predFile.write('\\n_________________________________________________________________________________')\n",
    "            predFile.write('\\n_________________________________________________________________________________')\n",
    "            predFile.close()   #close the file so that it saves the changes"
   ]
  },
  {
   "cell_type": "markdown",
   "metadata": {
    "deletable": true,
    "editable": true
   },
   "source": [
    "Here is a list of all the combinations tested and the 'average relitive error' they yeild."
   ]
  },
  {
   "cell_type": "code",
   "execution_count": 22,
   "metadata": {
    "collapsed": false,
    "deletable": true,
    "editable": true
   },
   "outputs": [
    {
     "name": "stdout",
     "output_type": "stream",
     "text": [
      "Error: 1.993, learnRate: 0.01, Width: 30, layers: 5\n",
      "Error: 9750.962, learnRate: 0.01, Width: 30, layers: 8\n"
     ]
    }
   ],
   "source": [
    "for i in mastErrList:\n",
    "    print(i)"
   ]
  },
  {
   "cell_type": "code",
   "execution_count": 54,
   "metadata": {
    "collapsed": false,
    "deletable": true,
    "editable": true
   },
   "outputs": [],
   "source": []
  },
  {
   "cell_type": "code",
   "execution_count": 55,
   "metadata": {
    "collapsed": true,
    "deletable": true,
    "editable": true
   },
   "outputs": [],
   "source": []
  },
  {
   "cell_type": "code",
   "execution_count": null,
   "metadata": {
    "collapsed": false,
    "deletable": true,
    "editable": true
   },
   "outputs": [],
   "source": []
  },
  {
   "cell_type": "code",
   "execution_count": null,
   "metadata": {
    "collapsed": false,
    "deletable": true,
    "editable": true
   },
   "outputs": [],
   "source": []
  },
  {
   "cell_type": "code",
   "execution_count": null,
   "metadata": {
    "collapsed": false,
    "deletable": true,
    "editable": true
   },
   "outputs": [],
   "source": []
  },
  {
   "cell_type": "code",
   "execution_count": 16,
   "metadata": {
    "collapsed": false,
    "deletable": true,
    "editable": true
   },
   "outputs": [],
   "source": []
  },
  {
   "cell_type": "code",
   "execution_count": null,
   "metadata": {
    "collapsed": true,
    "deletable": true,
    "editable": true
   },
   "outputs": [],
   "source": []
  }
 ],
 "metadata": {
  "kernelspec": {
   "display_name": "Python 3",
   "language": "python",
   "name": "python3"
  },
  "language_info": {
   "codemirror_mode": {
    "name": "ipython",
    "version": 3
   },
   "file_extension": ".py",
   "mimetype": "text/x-python",
   "name": "python",
   "nbconvert_exporter": "python",
   "pygments_lexer": "ipython3",
   "version": "3.5.3"
  },
  "widgets": {
   "state": {
    "069276cff7bf4814af22e14eec1457ab": {
     "views": [
      {
       "cell_index": 11
      }
     ]
    },
    "0d0f097d22674400882ea667b246504b": {
     "views": [
      {
       "cell_index": 10
      }
     ]
    },
    "109d06593f59494f85e7109df9bebf94": {
     "views": [
      {
       "cell_index": 11
      }
     ]
    },
    "30571c55e1f34e94aade16921e1dde5d": {
     "views": [
      {
       "cell_index": 11
      }
     ]
    },
    "3beea730509648ccb18658350db19c5d": {
     "views": [
      {
       "cell_index": 10
      }
     ]
    },
    "47117cda286145d299180a796ca362a0": {
     "views": [
      {
       "cell_index": 11
      }
     ]
    },
    "541a4ea7fe984a31bc69ae35c82312b9": {
     "views": [
      {
       "cell_index": 11
      }
     ]
    },
    "5cde23d8f63349d5bf8864584852153f": {
     "views": [
      {
       "cell_index": 11
      }
     ]
    },
    "5d506b11717c4223868d57a973887c0c": {
     "views": [
      {
       "cell_index": 11
      }
     ]
    },
    "5ee5a07940444b48a41edcd45ff50c0f": {
     "views": [
      {
       "cell_index": 11
      }
     ]
    },
    "692f0a4e6c204ed2b3bba5db186aefa4": {
     "views": [
      {
       "cell_index": 11
      }
     ]
    },
    "737ba34e94b2425b9bcf2112cd165406": {
     "views": [
      {
       "cell_index": 11
      }
     ]
    },
    "7f93e45062e944dbb3fc10b28a211cfe": {
     "views": [
      {
       "cell_index": 11
      }
     ]
    },
    "95805d5039ca4a2cbfaa45af3e3bf587": {
     "views": [
      {
       "cell_index": 11
      }
     ]
    },
    "a3e50f9ea968462a922ad2c0b32a74ee": {
     "views": [
      {
       "cell_index": 11
      }
     ]
    },
    "b80e6c386820476fb36a5711d7b89bdc": {
     "views": [
      {
       "cell_index": 11
      }
     ]
    },
    "d1c0375837c74e0dac63ba12261ed35f": {
     "views": [
      {
       "cell_index": 11
      }
     ]
    },
    "ecc0fedd1c6a45a28a912a312546f936": {
     "views": [
      {
       "cell_index": 11
      }
     ]
    },
    "ef35bef469f94e84baeaccc91a714448": {
     "views": [
      {
       "cell_index": 11
      }
     ]
    },
    "f4b3b43b824a45c5a4134b641be6cb7d": {
     "views": [
      {
       "cell_index": 11
      }
     ]
    }
   },
   "version": "1.2.0"
  }
 },
 "nbformat": 4,
 "nbformat_minor": 2
}
